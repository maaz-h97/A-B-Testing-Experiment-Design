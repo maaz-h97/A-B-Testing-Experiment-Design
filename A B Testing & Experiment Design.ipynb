{
 "cells": [
  {
   "cell_type": "code",
   "execution_count": 1,
   "id": "dddc8d6c-7eb2-484c-8e0f-dc22bde9b771",
   "metadata": {},
   "outputs": [
    {
     "data": {
      "text/html": [
       "<div>\n",
       "<style scoped>\n",
       "    .dataframe tbody tr th:only-of-type {\n",
       "        vertical-align: middle;\n",
       "    }\n",
       "\n",
       "    .dataframe tbody tr th {\n",
       "        vertical-align: top;\n",
       "    }\n",
       "\n",
       "    .dataframe thead th {\n",
       "        text-align: right;\n",
       "    }\n",
       "</style>\n",
       "<table border=\"1\" class=\"dataframe\">\n",
       "  <thead>\n",
       "    <tr style=\"text-align: right;\">\n",
       "      <th></th>\n",
       "      <th>conversion_rate</th>\n",
       "      <th>count</th>\n",
       "      <th>sum</th>\n",
       "    </tr>\n",
       "    <tr>\n",
       "      <th>group</th>\n",
       "      <th></th>\n",
       "      <th></th>\n",
       "      <th></th>\n",
       "    </tr>\n",
       "  </thead>\n",
       "  <tbody>\n",
       "    <tr>\n",
       "      <th>control</th>\n",
       "      <td>0.126531</td>\n",
       "      <td>490</td>\n",
       "      <td>62</td>\n",
       "    </tr>\n",
       "    <tr>\n",
       "      <th>treatment</th>\n",
       "      <td>0.182353</td>\n",
       "      <td>510</td>\n",
       "      <td>93</td>\n",
       "    </tr>\n",
       "  </tbody>\n",
       "</table>\n",
       "</div>"
      ],
      "text/plain": [
       "           conversion_rate  count  sum\n",
       "group                                 \n",
       "control           0.126531    490   62\n",
       "treatment         0.182353    510   93"
      ]
     },
     "execution_count": 1,
     "metadata": {},
     "output_type": "execute_result"
    }
   ],
   "source": [
    "import pandas as pd\n",
    "\n",
    "# Load the dataset\n",
    "df = pd.read_csv('/Users/maazhussain/Desktop/Projects/AB Testing & Experiment /ab_test_data.csv')\n",
    "\n",
    "# Check basic conversion stats\n",
    "conversion_rates = df.groupby('group')['converted'].agg(['mean', 'count', 'sum']).rename(columns={'mean': 'conversion_rate'})\n",
    "conversion_rates\n"
   ]
  },
  {
   "cell_type": "code",
   "execution_count": 3,
   "id": "1a843a09-b2fe-43f1-a453-e9f890a9dafe",
   "metadata": {},
   "outputs": [
    {
     "name": "stdout",
     "output_type": "stream",
     "text": [
      "Z-statistic: -2.4384\n",
      "P-value: 0.9926\n"
     ]
    }
   ],
   "source": [
    "from statsmodels.stats.proportion import proportions_ztest\n",
    "\n",
    "# Successes and observations\n",
    "success = [62, 93]              # Converted\n",
    "n_obs = [490, 510]              # Total users\n",
    "\n",
    "# One-tailed test (treatment > control)\n",
    "z_stat, p_val = proportions_ztest(success, n_obs, alternative='larger')\n",
    "\n",
    "print(f\"Z-statistic: {z_stat:.4f}\")\n",
    "print(f\"P-value: {p_val:.4f}\")\n"
   ]
  },
  {
   "cell_type": "markdown",
   "id": "ff282587-09af-4580-9eee-3b916bf75d7b",
   "metadata": {},
   "source": [
    "📊 A/B Testing – Conversion Experiment Report\n",
    "\n",
    "🧭 Objective\n",
    "\n",
    "To evaluate whether a new treatment (e.g., updated design, messaging, or offer) leads to a higher user conversion rate compared to the existing control group.\n",
    "\n",
    "📁 Dataset Summary\n",
    "\n",
    "Total Users: 1000 (490 control, 510 treatment)\n",
    "Features:\n",
    "user_id: Unique identifier\n",
    "group: A/B group assignment (control, treatment)\n",
    "converted: Conversion outcome (1 = converted, 0 = not)\n",
    "\n",
    "🔬 Hypotheses\n",
    "\n",
    "Null Hypothesis (H₀):\n",
    "The conversion rate of the treatment group is equal to or less than the control group.\n",
    "Alternative Hypothesis (H₁):\n",
    "The treatment group has a higher conversion rate.\n",
    "\n",
    "📈 Observed Conversion Rates\n",
    "\n",
    "Group\tConversion Rate\tUsers\tConversions\n",
    "Control\t12.65%\t490\t62\n",
    "Treatment\t18.24%\t510\t93\n",
    "\n",
    "🧪 Test Performed\n",
    "\n",
    "Test Type: Two-sample proportions z-test (one-tailed)\n",
    "Z-statistic: -2.4384\n",
    "P-value: 0.9926\n",
    "\n",
    "✅ Conclusion\n",
    "\n",
    "The p-value (0.9926) is much greater than the 0.05 threshold. Therefore, we fail to reject the null hypothesis.\n",
    "➡️ There is no statistically significant evidence that the treatment group performs better than the control group. The observed uplift is likely due to chance."
   ]
  },
  {
   "cell_type": "code",
   "execution_count": null,
   "id": "32685db5-87d1-461f-b917-e658eed8bc8c",
   "metadata": {},
   "outputs": [],
   "source": []
  }
 ],
 "metadata": {
  "kernelspec": {
   "display_name": "Python 3 (ipykernel)",
   "language": "python",
   "name": "python3"
  },
  "language_info": {
   "codemirror_mode": {
    "name": "ipython",
    "version": 3
   },
   "file_extension": ".py",
   "mimetype": "text/x-python",
   "name": "python",
   "nbconvert_exporter": "python",
   "pygments_lexer": "ipython3",
   "version": "3.12.2"
  }
 },
 "nbformat": 4,
 "nbformat_minor": 5
}
